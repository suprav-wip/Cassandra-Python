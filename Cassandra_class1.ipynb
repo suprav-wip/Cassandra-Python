{
 "cells": [
  {
   "cell_type": "code",
   "execution_count": 2,
   "id": "3386dfc4-7494-40c9-8ce8-f0dcbba5bff9",
   "metadata": {},
   "outputs": [
    {
     "name": "stdout",
     "output_type": "stream",
     "text": [
      "Collecting cassandra-driver\n",
      "  Downloading cassandra_driver-3.25.0-cp310-cp310-manylinux_2_12_x86_64.manylinux2010_x86_64.whl (3.7 MB)\n",
      "\u001b[2K     \u001b[90m━━━━━━━━━━━━━━━━━━━━━━━━━━━━━━━━━━━━━━━━\u001b[0m \u001b[32m3.7/3.7 MB\u001b[0m \u001b[31m70.8 MB/s\u001b[0m eta \u001b[36m0:00:00\u001b[0mta \u001b[36m0:00:01\u001b[0m\n",
      "\u001b[?25hCollecting geomet<0.3,>=0.1\n",
      "  Downloading geomet-0.2.1.post1-py3-none-any.whl (18 kB)\n",
      "Requirement already satisfied: six>=1.9 in /opt/conda/lib/python3.10/site-packages (from cassandra-driver) (1.16.0)\n",
      "Requirement already satisfied: click in /opt/conda/lib/python3.10/site-packages (from geomet<0.3,>=0.1->cassandra-driver) (8.1.3)\n",
      "Installing collected packages: geomet, cassandra-driver\n",
      "Successfully installed cassandra-driver-3.25.0 geomet-0.2.1.post1\n",
      "Note: you may need to restart the kernel to use updated packages.\n"
     ]
    }
   ],
   "source": [
    "pip install cassandra-driver"
   ]
  },
  {
   "cell_type": "code",
   "execution_count": 4,
   "id": "e2e742ac-509a-4018-b385-d9dee44c8123",
   "metadata": {},
   "outputs": [
    {
     "name": "stdout",
     "output_type": "stream",
     "text": [
      "3.25.0\n"
     ]
    }
   ],
   "source": [
    "import cassandra\n",
    "print (cassandra.__version__)"
   ]
  },
  {
   "cell_type": "code",
   "execution_count": 7,
   "id": "e34b9638-2c62-4eaf-ab08-8a41ece95d53",
   "metadata": {},
   "outputs": [
    {
     "name": "stdout",
     "output_type": "stream",
     "text": [
      "4.0.0.6816\n"
     ]
    }
   ],
   "source": [
    "from cassandra.cluster import Cluster\n",
    "from cassandra.auth import PlainTextAuthProvider\n",
    "\n",
    "cloud_config= {\n",
    "         'secure_connect_bundle': 'secure-connect-cassandra-demo.zip'\n",
    "}\n",
    "auth_provider = PlainTextAuthProvider('OPXPFFUNNDMmdYvlfDxtnMZx', 'Ei7PeqA96BXyqD0twd7UibvXJ9pucF4ELh0l4o4tHUN-0HTK9S+paQR.bBZyIQmmzCc0+GAZiQ48MBqdd+ob6Q,dYp1m8fJMmIsknWn81oxaZEHh7gg76+LeQt6J1f.2')\n",
    "cluster = Cluster(cloud=cloud_config, auth_provider=auth_provider)\n",
    "session = cluster.connect()\n",
    "\n",
    "row = session.execute(\"select release_version from system.local\").one()\n",
    "if row:\n",
    "      print(row[0])\n",
    "else:\n",
    "      print(\"An error occurred.\")"
   ]
  },
  {
   "cell_type": "code",
   "execution_count": 12,
   "id": "e6894f8c-a4b2-49a9-82b7-e821fcad7880",
   "metadata": {},
   "outputs": [
    {
     "name": "stdout",
     "output_type": "stream",
     "text": [
      "Exception occured while creating keyspace: <Error from server: code=2000 [Syntax error in CQL query] message=\"line 1:102 no viable alternative at input '=' (... = {'class': 'SimpleStrategy','replication_factor'[=]...)\">\n"
     ]
    }
   ],
   "source": [
    "# command to create Keyspace in Cassandra\n",
    "try:\n",
    "    query = \"create keyspace employee_management with replication = {'class': 'SimpleStrategy','replication_factor'=3}\"\n",
    "    session.execute(query)\n",
    "    print(\"Keyspace created successfully\")\n",
    "except Exception as err:\n",
    "    print(\"Exception occured while creating keyspace:\",err)"
   ]
  },
  {
   "cell_type": "code",
   "execution_count": 13,
   "id": "18ee6894-80fe-41b3-8d40-a7eb0ecc2714",
   "metadata": {},
   "outputs": [
    {
     "name": "stdout",
     "output_type": "stream",
     "text": [
      "Exception occured while altering keyspace: <Error from server: code=2000 [Syntax error in CQL query] message=\"line 1:101 no viable alternative at input '=' (... = {'class': 'SimpleStrategy','replication_factor'[=]...)\">\n"
     ]
    }
   ],
   "source": [
    "# command to alter Keyspace in Cassandra\n",
    "try:\n",
    "    query = \"alter keyspace employee_management with replication = {'class': 'SimpleStrategy','replication_factor'=2}\"\n",
    "    session.execute(query)\n",
    "    print(\"Keyspace altered successfully\")\n",
    "except Exception as err:\n",
    "    print(\"Exception occured while altering keyspace:\",err)"
   ]
  },
  {
   "cell_type": "code",
   "execution_count": 14,
   "id": "4c61a507-2e28-45a7-8bea-47c7fe182bf2",
   "metadata": {},
   "outputs": [
    {
     "name": "stdout",
     "output_type": "stream",
     "text": [
      "Exception occured while dropping keyspace: Error from server: code=2100 [Unauthorized] message=\"Missing correct permission on employee_management.: Keyspace management is currently only supported at https://astra.datastax.com/org/02cd326c-793b-49c0-9500-31a61082c59c/database/385f2c27-dad4-4668-ad65-ab733ea63511\"\n"
     ]
    }
   ],
   "source": [
    "# command to drop Keyspace in Cassandra\n",
    "try:\n",
    "    query = \"drop keyspace employee_management\"\n",
    "    session.execute(query)\n",
    "    print(\"Keyspace dropped successfully\")\n",
    "except Exception as err:\n",
    "    print(\"Exception occured while dropping keyspace:\",err)"
   ]
  },
  {
   "cell_type": "code",
   "execution_count": 15,
   "id": "88af0751-27d3-4e45-94bb-98f1a39c672d",
   "metadata": {},
   "outputs": [
    {
     "name": "stdout",
     "output_type": "stream",
     "text": [
      "inside the Keyspace\n"
     ]
    }
   ],
   "source": [
    "# command to use Keyspace in Cassandra\n",
    "try:\n",
    "    query = \"use test_keyspace\"\n",
    "    session.execute(query)\n",
    "    print(\"inside the Keyspace\")\n",
    "except Exception as err:\n",
    "    print(\"Exception occured while getting inside keyspace:\",err)"
   ]
  },
  {
   "cell_type": "code",
   "execution_count": 16,
   "id": "e7e6ad82-b1d6-4612-aaf4-3e4d54de4d36",
   "metadata": {},
   "outputs": [
    {
     "name": "stdout",
     "output_type": "stream",
     "text": [
      "Table created successfully\n"
     ]
    }
   ],
   "source": [
    "# command to create a table insode Keyspace in Cassandra\n",
    "try:\n",
    "    query = \"\"\" create table employee(\n",
    "                emp_id int,\n",
    "                emp_name text,\n",
    "                emp_salary int,\n",
    "                emp_dept varchar,\n",
    "                emp_email varchar,\n",
    "                emp_phone varchar,\n",
    "                primary key (emp_id, emp_dept)\n",
    "                )\n",
    "            \"\"\"\n",
    "    session.execute(query)\n",
    "    print(\"Table created successfully\")\n",
    "except Exception as err:\n",
    "    print(\"Exception occured while creating the table employee: \",err)"
   ]
  },
  {
   "cell_type": "code",
   "execution_count": 18,
   "id": "65649049-217f-44aa-bbc8-7964b91aca61",
   "metadata": {},
   "outputs": [
    {
     "name": "stdout",
     "output_type": "stream",
     "text": [
      "Exception occured while altering the table employee:  <Error from server: code=2000 [Syntax error in CQL query] message=\"line 1:21 no viable alternative at input 'modify' (alter table [employee] modify...)\">\n"
     ]
    }
   ],
   "source": [
    "# command to alter the table inside Keyspace in Cassandra\n",
    "try:\n",
    "    query = \"alter table employee modify emp_email text\"\n",
    "    session.execute(query)\n",
    "    print(\"Table altered successfully\")\n",
    "except Exception as err:\n",
    "    print(\"Exception occured while altering the table employee: \",err)"
   ]
  },
  {
   "cell_type": "code",
   "execution_count": 19,
   "id": "668a3ef4-e4c2-4221-9dac-3bb7438da59f",
   "metadata": {},
   "outputs": [
    {
     "name": "stdout",
     "output_type": "stream",
     "text": [
      "column dropped successfully\n"
     ]
    }
   ],
   "source": [
    "# command to alter the table to drop a column\n",
    "try:\n",
    "    query = \"alter table employee drop emp_email\"\n",
    "    session.execute(query)\n",
    "    print(\"column dropped successfully\")\n",
    "except Exception as err:\n",
    "    print(\"Exception occured while dropping the column in employee: \",err)"
   ]
  },
  {
   "cell_type": "code",
   "execution_count": 20,
   "id": "31fa3a22-eb0a-445b-86d2-deb3ab7eac79",
   "metadata": {},
   "outputs": [
    {
     "name": "stdout",
     "output_type": "stream",
     "text": [
      "column added successfully\n"
     ]
    }
   ],
   "source": [
    "# command to alter the table to add a new column\n",
    "try:\n",
    "    query = \"alter table employee add emp_email text\"\n",
    "    session.execute(query)\n",
    "    print(\"column added successfully\")\n",
    "except Exception as err:\n",
    "    print(\"Exception occured while adding the column in employee: \",err)"
   ]
  },
  {
   "cell_type": "code",
   "execution_count": null,
   "id": "dc49efa9-28b3-497c-99b5-a9db1e83ed14",
   "metadata": {},
   "outputs": [],
   "source": [
    "# command to drop the table to drop a column\n",
    "try:\n",
    "    query = \"drop table employee\"\n",
    "    session.execute(query)\n",
    "    print(\"table dropped successfully\")\n",
    "except Exception as err:\n",
    "    print(\"Exception occured while dropping table employee: \",err)"
   ]
  },
  {
   "cell_type": "code",
   "execution_count": 22,
   "id": "4553c707-02b5-4e29-8e9f-3008a6f6a325",
   "metadata": {},
   "outputs": [
    {
     "data": {
      "text/plain": [
       "<cassandra.cluster.ResultSet at 0x7f1942316110>"
      ]
     },
     "execution_count": 22,
     "metadata": {},
     "output_type": "execute_result"
    }
   ],
   "source": [
    "    query = \"alter table employee drop emp_name\"\n",
    "    session.execute(query)"
   ]
  },
  {
   "cell_type": "code",
   "execution_count": 23,
   "id": "fb14ba9a-7581-440f-8c4b-fd4576318b87",
   "metadata": {},
   "outputs": [
    {
     "data": {
      "text/plain": [
       "<cassandra.cluster.ResultSet at 0x7f1942fd8b50>"
      ]
     },
     "execution_count": 23,
     "metadata": {},
     "output_type": "execute_result"
    }
   ],
   "source": [
    "query = \"alter table employee add emp_name varchar\"\n",
    "session.execute(query)"
   ]
  },
  {
   "cell_type": "code",
   "execution_count": 26,
   "id": "c0d46800-4e60-4540-bc24-47a6b1aa1bd9",
   "metadata": {},
   "outputs": [
    {
     "name": "stdout",
     "output_type": "stream",
     "text": [
      "Record inserted successfully\n"
     ]
    }
   ],
   "source": [
    "# command to insert data into the table \n",
    "try:\n",
    "    query = \"insert into employee(emp_id,emp_name,emp_salary,emp_dept,emp_email,emp_phone) values (1,'Suprav',10000,'software','abc@gmail.com','+91 7032820483')\"\n",
    "    session.execute(query)\n",
    "    print(\"Record inserted successfully\")\n",
    "except Exception as err:\n",
    "    print(\"Exception occured while inserting the data into table employee: \",err)"
   ]
  },
  {
   "cell_type": "code",
   "execution_count": 27,
   "id": "c305c181-a8ed-4fb2-ab07-a98b7e6b5d83",
   "metadata": {},
   "outputs": [
    {
     "name": "stdout",
     "output_type": "stream",
     "text": [
      "Exception occured while inserting the data into table employee:  <Error from server: code=2000 [Syntax error in CQL query] message=\"line 1:161 mismatched input ',' expecting EOF (...'Kaustubh',20000,'customer support','kdegem@gmail.com','+91 70245620783')[,]...)\">\n"
     ]
    }
   ],
   "source": [
    "# command to insert multiple data into the table - doesnt happen in cassandra\n",
    "try:\n",
    "    query = \"insert into employee(emp_id,emp_name,emp_salary,emp_dept,emp_email,emp_phone) values (2,'Kaustubh',20000,'customer support','kdegem@gmail.com','+91 70245620783'), (2,'Himaksh',30000,'HR','graph@gmail.com','+91 20345678')\"\n",
    "    session.execute(query)\n",
    "    print(\"Record inserted successfully\")\n",
    "except Exception as err:\n",
    "    print(\"Exception occured while inserting the data into table employee: \",err)"
   ]
  },
  {
   "cell_type": "code",
   "execution_count": 28,
   "id": "7d18c936-5d0f-4a5d-b7f4-c05559faa66c",
   "metadata": {},
   "outputs": [
    {
     "data": {
      "text/plain": [
       "<cassandra.cluster.ResultSet at 0x7f1942be7670>"
      ]
     },
     "execution_count": 28,
     "metadata": {},
     "output_type": "execute_result"
    }
   ],
   "source": [
    "query = \"insert into employee(emp_id,emp_name,emp_salary,emp_dept,emp_email,emp_phone) values (2,'Kaustubh',20000,'customer support','kdegem@gmail.com','+91 70245620783')\"\n",
    "session.execute(query)"
   ]
  },
  {
   "cell_type": "code",
   "execution_count": 29,
   "id": "ca5c0fed-30f1-4837-9612-b7acec605197",
   "metadata": {},
   "outputs": [
    {
     "name": "stdout",
     "output_type": "stream",
     "text": [
      "Record inserted successfully\n"
     ]
    }
   ],
   "source": [
    "query = \"insert into employee(emp_id,emp_name,emp_salary,emp_dept,emp_email,emp_phone) values(3,'Himaksh',30000,'HR','graph@gmail.com','+91 20345678')\"\n",
    "session.execute(query)\n",
    "print(\"Record inserted successfully\")"
   ]
  },
  {
   "cell_type": "code",
   "execution_count": 30,
   "id": "95492f71-21ff-4c43-9376-ed5c911e1c97",
   "metadata": {},
   "outputs": [
    {
     "name": "stdout",
     "output_type": "stream",
     "text": [
      "Record inserted successfully\n"
     ]
    }
   ],
   "source": [
    "query = \"insert into employee(emp_id,emp_name,emp_salary,emp_dept,emp_email,emp_phone) values(4,'Prasanna',40000,'HR','momma@gmail.com','+91 123456789')\"\n",
    "session.execute(query)\n",
    "print(\"Record inserted successfully\")"
   ]
  },
  {
   "cell_type": "code",
   "execution_count": 31,
   "id": "c888a00b-38e7-4925-a7be-22e748b3bbed",
   "metadata": {},
   "outputs": [
    {
     "name": "stdout",
     "output_type": "stream",
     "text": [
      "Record inserted successfully\n"
     ]
    }
   ],
   "source": [
    "query = \"insert into employee(emp_id,emp_name,emp_salary,emp_dept,emp_email,emp_phone) values(5,'Sudhansu',40000,'Medicine','papa@gmail.com','+91 9876543210')\"\n",
    "session.execute(query)\n",
    "print(\"Record inserted successfully\")"
   ]
  },
  {
   "cell_type": "code",
   "execution_count": 35,
   "id": "337619a3-7ebd-47f1-9ccd-f618afe0c4d9",
   "metadata": {},
   "outputs": [
    {
     "name": "stdout",
     "output_type": "stream",
     "text": [
      "[Row(emp_id=5, emp_dept='Medicine', emp_email='papa@gmail.com', emp_name='Sudhansu', emp_phone='+91 9876543210', emp_salary=40000), Row(emp_id=1, emp_dept='software', emp_email='abc@gmail.com', emp_name='Suprav', emp_phone='+91 7032820483', emp_salary=10000), Row(emp_id=2, emp_dept='customer support', emp_email='kdegem@gmail.com', emp_name='Kaustubh', emp_phone='+91 70245620783', emp_salary=20000), Row(emp_id=4, emp_dept='HR', emp_email='momma@gmail.com', emp_name='Prasanna', emp_phone='+91 123456789', emp_salary=40000), Row(emp_id=3, emp_dept='HR', emp_email='graph@gmail.com', emp_name='Himaksh', emp_phone='+91 20345678', emp_salary=30000)]\n",
      "select comman successfully executed !!\n"
     ]
    }
   ],
   "source": [
    "# command to select query on the table in cassandra\n",
    "try:\n",
    "    query = \"select * from employee\"\n",
    "    result = session.execute(query)\n",
    "    row=result.all()\n",
    "    print(row)\n",
    "    print(\"select comman successfully executed !!\")\n",
    "except Exception as err:\n",
    "    print(\"Exception occured while seelcting the data from table employee: \",err)"
   ]
  },
  {
   "cell_type": "code",
   "execution_count": 36,
   "id": "3c6a55dd-7428-4a9c-a939-ad2a736deb1f",
   "metadata": {},
   "outputs": [
    {
     "name": "stdout",
     "output_type": "stream",
     "text": [
      "Row(emp_id=5, emp_dept='Medicine', emp_email='papa@gmail.com', emp_name='Sudhansu', emp_phone='+91 9876543210', emp_salary=40000)\n",
      "Row(emp_id=1, emp_dept='software', emp_email='abc@gmail.com', emp_name='Suprav', emp_phone='+91 7032820483', emp_salary=10000)\n",
      "Row(emp_id=2, emp_dept='customer support', emp_email='kdegem@gmail.com', emp_name='Kaustubh', emp_phone='+91 70245620783', emp_salary=20000)\n",
      "Row(emp_id=4, emp_dept='HR', emp_email='momma@gmail.com', emp_name='Prasanna', emp_phone='+91 123456789', emp_salary=40000)\n",
      "Row(emp_id=3, emp_dept='HR', emp_email='graph@gmail.com', emp_name='Himaksh', emp_phone='+91 20345678', emp_salary=30000)\n",
      "select comman successfully executed !!\n"
     ]
    }
   ],
   "source": [
    "# command to select query on the table in cassandra\n",
    "try:\n",
    "    query = \"select * from employee\"\n",
    "    result = session.execute(query)\n",
    "    for row in result:\n",
    "        print(row)\n",
    "    print(\"select command successfully executed !!\")\n",
    "except Exception as err:\n",
    "    print(\"Exception occured while seelcting the data from table employee: \",err)"
   ]
  },
  {
   "cell_type": "code",
   "execution_count": 37,
   "id": "5ed9510a-38e4-4d7f-9126-4c6b4767db33",
   "metadata": {},
   "outputs": [
    {
     "name": "stdout",
     "output_type": "stream",
     "text": [
      "Row(emp_id=1, emp_name='Suprav')\n",
      "select command successfully executed !!\n"
     ]
    }
   ],
   "source": [
    "# command to select a specific row from a query on the table in cassandra\n",
    "try:\n",
    "    query = \"select emp_id, emp_name from employee where emp_id = 1\"\n",
    "    result = session.execute(query)\n",
    "    for row in result:\n",
    "        print(row)\n",
    "    print(\"select command successfully executed !!\")\n",
    "except Exception as err:\n",
    "    print(\"Exception occured while seelcting the data from table employee: \",err)"
   ]
  },
  {
   "cell_type": "code",
   "execution_count": 38,
   "id": "72a556dc-3bdc-498b-8d75-cf10e9a5c2f2",
   "metadata": {},
   "outputs": [
    {
     "name": "stdout",
     "output_type": "stream",
     "text": [
      "emp_id :  5\n",
      "emp_name :  Sudhansu\n",
      "emp_id :  1\n",
      "emp_name :  Suprav\n",
      "emp_id :  2\n",
      "emp_name :  Kaustubh\n",
      "emp_id :  4\n",
      "emp_name :  Prasanna\n",
      "emp_id :  3\n",
      "emp_name :  Himaksh\n",
      "select command successfully executed !!\n"
     ]
    }
   ],
   "source": [
    "# command to select a specific columns in cassandra table\n",
    "try:\n",
    "    query = \"select emp_id, emp_name from employee\"\n",
    "    result = session.execute(query)\n",
    "    for row in result:\n",
    "        print(\"emp_id : \", row[0])\n",
    "        print(\"emp_name : \", row[1])\n",
    "        \n",
    "    print(\"select command successfully executed !!\")\n",
    "except Exception as err:\n",
    "    print(\"Exception occured while seelcting the data from table employee: \",err)"
   ]
  },
  {
   "cell_type": "code",
   "execution_count": 40,
   "id": "385152e3-0c1d-4e94-8592-e40c5c2e4ed3",
   "metadata": {},
   "outputs": [
    {
     "name": "stdout",
     "output_type": "stream",
     "text": [
      "Row(count=5)\n",
      "5\n",
      "select command successfully executed !!\n"
     ]
    }
   ],
   "source": [
    "# write a query to get the total number of emplioyees\n",
    "try:\n",
    "    query = \"select count(*) from employee\"\n",
    "    result = session.execute(query)\n",
    "    row = result.one()\n",
    "    print(row)\n",
    "    print(row[0])\n",
    "        \n",
    "    print(\"select command successfully executed !!\")\n",
    "except Exception as err:\n",
    "    print(\"Exception occured while seelcting the data from table employee: \",err)"
   ]
  },
  {
   "cell_type": "code",
   "execution_count": 41,
   "id": "75695f0d-0b86-4f25-83c8-77a76297d26d",
   "metadata": {},
   "outputs": [
    {
     "name": "stdout",
     "output_type": "stream",
     "text": [
      "Row(system_max_emp_salary=40000)\n",
      "40000\n",
      "select command successfully executed !!\n"
     ]
    }
   ],
   "source": [
    "# write a query to get maximum salary\n",
    "try:\n",
    "    query = \"select max(emp_salary) from employee\"\n",
    "    result = session.execute(query)\n",
    "    row = result.one()\n",
    "    print(row)\n",
    "    print(row[0])\n",
    "        \n",
    "    print(\"select command successfully executed !!\")\n",
    "except Exception as err:\n",
    "    print(\"Exception occured while seelcting the data from table employee: \",err)"
   ]
  },
  {
   "cell_type": "code",
   "execution_count": 43,
   "id": "2819d6c5-12eb-4011-a6c7-52171932f1eb",
   "metadata": {},
   "outputs": [
    {
     "name": "stdout",
     "output_type": "stream",
     "text": [
      "Exception occured while seelcting the data from table employee:  Error from server: code=2200 [Invalid query] message=\"Cannot execute this query as it might involve data filtering and thus may have unpredictable performance. If you want to execute this query despite the performance unpredictability, use ALLOW FILTERING\"\n"
     ]
    }
   ],
   "source": [
    "# write a query select a employee name = suprav\n",
    "try:\n",
    "    query = \"select * from employee where emp_name='suprav'\"\n",
    "    result = session.execute(query)\n",
    "    row = result.one()\n",
    "    print(row)\n",
    "    print(row[0])\n",
    "        \n",
    "    print(\"select command successfully executed !!\")\n",
    "except Exception as err:\n",
    "    print(\"Exception occured while seelcting the data from table employee: \",err)"
   ]
  },
  {
   "cell_type": "code",
   "execution_count": 46,
   "id": "640decbb-5be8-4cba-99e9-75b3685b4471",
   "metadata": {},
   "outputs": [
    {
     "name": "stdout",
     "output_type": "stream",
     "text": [
      "Row(emp_id=1, emp_dept='software', emp_email='abc@gmail.com', emp_name='Suprav', emp_phone='+91 7032820483', emp_salary=10000)\n",
      "select command successfully executed !!\n"
     ]
    }
   ],
   "source": [
    "# Rules for Where clause - it can be used with high performance for given below type of columns\n",
    "# 1) Partition Key (Single or composite)\n",
    "\n",
    "# 2) If Cluster column then it should be with partition key\n",
    "# 3) A column on which we have applied the index\n",
    "# 4) A column which is not a part of partition key or index column or clustering column then we can use Where clause but we have to\n",
    "# use keyword ALLOW FILTERING - it will be superslow when the data volume is high\n",
    "\n",
    "#Rule 4: Allow filtering\n",
    "try:\n",
    "    query = \"select * from employee where emp_name='Suprav' ALLOW FILTERING\"\n",
    "    result = session.execute(query)\n",
    "    row = result.one()\n",
    "    print(row)\n",
    "        \n",
    "    print(\"select command successfully executed !!\")\n",
    "except Exception as err:\n",
    "    print(\"Exception occured while seelcting the data from table employee: \",err)"
   ]
  },
  {
   "cell_type": "code",
   "execution_count": 47,
   "id": "c92271ac-7bf0-488c-a635-3d0fc9319aff",
   "metadata": {},
   "outputs": [
    {
     "name": "stdout",
     "output_type": "stream",
     "text": [
      "Row(emp_id=2, emp_dept='customer support', emp_email='kdegem@gmail.com', emp_name='Kaustubh', emp_phone='+91 70245620783', emp_salary=20000)\n",
      "select command successfully executed !!\n"
     ]
    }
   ],
   "source": [
    "# Rule 1 using partition key\n",
    "\n",
    "try:\n",
    "    query = \"select * from employee where emp_id=2\"\n",
    "    result = session.execute(query)\n",
    "    row = result.one()\n",
    "    print(row)\n",
    "        \n",
    "    print(\"select command successfully executed !!\")\n",
    "except Exception as err:\n",
    "    print(\"Exception occured while seelcting the data from table employee: \",err)"
   ]
  },
  {
   "cell_type": "code",
   "execution_count": 49,
   "id": "30006112-d6c5-4474-8a66-0f672be7239e",
   "metadata": {},
   "outputs": [
    {
     "name": "stdout",
     "output_type": "stream",
     "text": [
      "Row(emp_id=1, emp_dept='software', emp_email='abc@gmail.com', emp_name='Suprav', emp_phone='+91 7032820483', emp_salary=10000)\n",
      "select command successfully executed !!\n"
     ]
    }
   ],
   "source": [
    "# Rule 2 or using Where clause with clustering key\n",
    "\n",
    "try:\n",
    "    query = \"select * from employee where emp_dept='software' and emp_id=1\"\n",
    "    result = session.execute(query)\n",
    "    row = result.one()\n",
    "    print(row)\n",
    "        \n",
    "    print(\"select command successfully executed !!\")\n",
    "except Exception as err:\n",
    "    print(\"Exception occured while seelcting the data from table employee: \",err)\n"
   ]
  },
  {
   "cell_type": "code",
   "execution_count": null,
   "id": "5a19ebd2-b1d3-43ef-9890-e35ac39aa873",
   "metadata": {},
   "outputs": [],
   "source": [
    "# if we have another composite partition key\n",
    "\n",
    "primary key((emp_id,emp_name),emp_dept)\n",
    "\n",
    "select * from employee where emp_id = 'x' and emp_name = 'Suprav' and emp_dept = 'software'"
   ]
  },
  {
   "cell_type": "code",
   "execution_count": 54,
   "id": "f00de863-a4d2-4e5d-a27a-70b8451c0d21",
   "metadata": {},
   "outputs": [
    {
     "name": "stdout",
     "output_type": "stream",
     "text": [
      "Row(sum_salary=40000)\n",
      "select command successfully executed !!\n"
     ]
    }
   ],
   "source": [
    "# Group by in Cassandra - it is callowed for all columns in Primary key\n",
    "# Follow below rules:\n",
    "# 1) Rule 1: Use only the partition key in the group by\n",
    "# 2) Rule 2: if cluster key  column is used then folllow the actual decalred sequence in the primary key\n",
    "\n",
    "#Rule 1\n",
    "try:\n",
    "    query = \"select sum(emp_salary) as sum_salary from employee group by emp_id\"\n",
    "    result = session.execute(query)\n",
    "    row = result.one()\n",
    "    print(row)\n",
    "        \n",
    "    print(\"select command successfully executed !!\")\n",
    "except Exception as err:\n",
    "    print(\"Exception occured while seelcting the data from table employee: \",err)"
   ]
  },
  {
   "cell_type": "code",
   "execution_count": 55,
   "id": "35387f90-0796-4ca2-b242-bf074528d679",
   "metadata": {},
   "outputs": [
    {
     "name": "stdout",
     "output_type": "stream",
     "text": [
      "Row(emp_id=5, emp_dept='Medicine', sum_salary=40000)\n",
      "select command successfully executed !!\n"
     ]
    }
   ],
   "source": [
    "#Rule 2\n",
    "try:\n",
    "    query = \"select emp_id, emp_dept, sum(emp_salary) as sum_salary from employee group by emp_id, emp_dept\"\n",
    "    result = session.execute(query)\n",
    "    row = result.one()\n",
    "    print(row)\n",
    "        \n",
    "    print(\"select command successfully executed !!\")\n",
    "except Exception as err:\n",
    "    print(\"Exception occured while seelcting the data from table employee: \",err)"
   ]
  },
  {
   "cell_type": "code",
   "execution_count": null,
   "id": "c1fb1a80-7519-4227-bbcc-43283fa7c51b",
   "metadata": {},
   "outputs": [],
   "source": []
  }
 ],
 "metadata": {
  "kernelspec": {
   "display_name": "Python 3 (ipykernel)",
   "language": "python",
   "name": "python3"
  },
  "language_info": {
   "codemirror_mode": {
    "name": "ipython",
    "version": 3
   },
   "file_extension": ".py",
   "mimetype": "text/x-python",
   "name": "python",
   "nbconvert_exporter": "python",
   "pygments_lexer": "ipython3",
   "version": "3.10.6"
  }
 },
 "nbformat": 4,
 "nbformat_minor": 5
}
